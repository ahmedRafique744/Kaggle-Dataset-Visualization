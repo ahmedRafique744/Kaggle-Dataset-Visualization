{
 "cells": [
  {
   "cell_type": "markdown",
   "id": "9f1d20db-5066-449f-855a-d47a39540420",
   "metadata": {},
   "source": [
    "Name: Ahmed Rafique Choudhry\n",
    "CS 251\n",
    "Extensions"
   ]
  },
  {
   "cell_type": "markdown",
   "id": "85faa5d4-d4d1-42a4-a1c2-0020681bdf2b",
   "metadata": {},
   "source": [
    "EXTENSIONS:"
   ]
  },
  {
   "cell_type": "markdown",
   "id": "3f600566-e5f6-49f9-a92f-cdacb9ffaf93",
   "metadata": {},
   "source": [
    "EXTENSION 1:\n",
    "\n",
    "I used the matplotlib.org documentation to learn more about other kinds of visual representation, and found that using bar charts could serve to be more efficient in organizaing my automobile.csv file since it had large amounts of data samples (close to 300). Thus, with the help of the bar() function, I was able to properly index my weight (kg) column data and my horsepower (fps) column data. The bar chart above shows the following properties:\n",
    "\n",
    "1) The x-axis represents horsepower values, with more concentrated 'bars' indicating a high number of cars with the same horsepower as is the case between 50 and 100 fps.\n",
    "2) The y-axis represents weight in kg\n",
    "3) There is a close relationship between weight and horsepower of a car. As the weight increases, that is that we get bigger and bigger vehicles, a great horsepower is recorded. (weight and horsepower are proportional.\n",
    "4) The shape of the bars starts to flatten out, showing us that the weight increases at a decreasing rate with the increase in horsepower."
   ]
  },
  {
   "cell_type": "code",
   "execution_count": 2,
   "id": "6c23689f-2c8a-41e7-942b-3213eaf21ba7",
   "metadata": {},
   "outputs": [
    {
     "ename": "NameError",
     "evalue": "name 'automobile_arr' is not defined",
     "output_type": "error",
     "traceback": [
      "\u001b[0;31m---------------------------------------------------------------------------\u001b[0m",
      "\u001b[0;31mNameError\u001b[0m                                 Traceback (most recent call last)",
      "Cell \u001b[0;32mIn[2], line 1\u001b[0m\n\u001b[0;32m----> 1\u001b[0m x_points \u001b[38;5;241m=\u001b[39m \u001b[43mautomobile_arr\u001b[49m\u001b[38;5;241m.\u001b[39mget_all_data()[\u001b[38;5;241m0\u001b[39m:\u001b[38;5;241m300\u001b[39m,\u001b[38;5;241m3\u001b[39m]\n\u001b[1;32m      2\u001b[0m y_points \u001b[38;5;241m=\u001b[39m automobile_arr\u001b[38;5;241m.\u001b[39mget_all_data()[\u001b[38;5;241m0\u001b[39m:\u001b[38;5;241m300\u001b[39m,\u001b[38;5;241m4\u001b[39m]\n\u001b[1;32m      4\u001b[0m plt\u001b[38;5;241m.\u001b[39mbar(x_points, y_points, color\u001b[38;5;241m=\u001b[39m\u001b[38;5;124m'\u001b[39m\u001b[38;5;124mg\u001b[39m\u001b[38;5;124m'\u001b[39m)\n",
      "\u001b[0;31mNameError\u001b[0m: name 'automobile_arr' is not defined"
     ]
    }
   ],
   "source": [
    "x_points = automobile_arr.get_all_data()[0:300,3]\n",
    "y_points = automobile_arr.get_all_data()[0:300,4]\n",
    "\n",
    "plt.bar(x_points, y_points, color='g')\n",
    "plt.xlabel(\"horespower (fps)\")\n",
    "plt.title(\"Weight - Horsepower Bar Chart\")\n",
    "\n",
    "plt.ylabel(\"weight (kg)\")\n",
    "plt.show()"
   ]
  },
  {
   "cell_type": "markdown",
   "id": "fd3f1aef-0199-4599-ab1d-729255244e04",
   "metadata": {},
   "source": [
    "Extension 2:\n",
    "\n",
    "I implemented a skewness method in the existing analysis.py file that calculates the skewness of a column variable by taking it in as a parameter.\n",
    "\n",
    "1) By first calculating the means for cases when rows was passed in as a parameter and in cases when rows was empty, I then used exponents and divisors to implement the skewness formula\n",
    "2) I also manually calculated the standard deviations (for the denominator), using the same process as before and incorperating a relevant exponent."
   ]
  },
  {
   "cell_type": "code",
   "execution_count": 79,
   "id": "c4168fd7-31cd-4321-8e4c-a56b1cbfce97",
   "metadata": {},
   "outputs": [
    {
     "name": "stdout",
     "output_type": "stream",
     "text": [
      "Weight skewness: [0.52706623]\n",
      "MPG skewness: [0.45362689]\n",
      "Displacement skewness: [0.71422979]\n"
     ]
    }
   ],
   "source": [
    "print(\"Weight skewness: \" + str(auto_analysis.extension1_skewness(['weight'])))\n",
    "print(\"MPG skewness: \" + str(auto_analysis.extension1_skewness(['mpg'])))\n",
    "print(\"Displacement skewness: \" + str(auto_analysis.extension1_skewness(['displacement'])))"
   ]
  },
  {
   "cell_type": "markdown",
   "id": "f522b397-7040-4a16-b974-1f8e950d43b1",
   "metadata": {},
   "source": [
    "Since the above skewness values are all greater than 0, we can say that there is a greater frequencey of higher values for all three variables (the variables have a right tail).\n",
    "\n",
    "It is interesting to note that there are a very large number of higher values for displacement, since its skewness is more right-tailed than the other two variables (weight and MPG)"
   ]
  }
 ],
 "metadata": {
  "kernelspec": {
   "display_name": "Python 3 (ipykernel)",
   "language": "python",
   "name": "python3"
  },
  "language_info": {
   "codemirror_mode": {
    "name": "ipython",
    "version": 3
   },
   "file_extension": ".py",
   "mimetype": "text/x-python",
   "name": "python",
   "nbconvert_exporter": "python",
   "pygments_lexer": "ipython3",
   "version": "3.11.5"
  }
 },
 "nbformat": 4,
 "nbformat_minor": 5
}
